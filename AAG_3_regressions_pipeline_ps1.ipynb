{
 "cells": [
  {
   "cell_type": "markdown",
   "id": "2ea32270",
   "metadata": {},
   "source": [
    "### Problem Set 1\n",
    "5. Write down three equations. One with just a \"treatment period\" dummy, one with\n",
    "just a \"treatment city\" dummy and then one that adds both of them with their\n",
    "interaction. This last regression gives you a dierence-in-dierence estimate of the\n",
    "eect of the event on prices. Explain which coecient captures this treatment eect\n",
    "and why you need a second city for this. (3 points)"
   ]
  },
  {
   "cell_type": "markdown",
   "id": "5b2b444a",
   "metadata": {},
   "source": [
    "6. Estimate all three regressions. Make a standard regression table with 4 columns (3 for\n",
    "your answer here and one more below). Make sure you check how these regressions\n",
    "look like usually. Always report all coecients. Then carefully interpret them for each\n",
    "regression and the changes you see. (4 points)"
   ]
  },
  {
   "cell_type": "code",
   "execution_count": 1,
   "id": "d684cad5",
   "metadata": {},
   "outputs": [],
   "source": [
    "import pandas as pd\n",
    "from sklearn.linear_model import LinearRegression\n",
    "from sklearn.metrics import mean_squared_error, r2_score\n",
    "import numpy as np\n",
    "import matplotlib.pyplot as plt\n",
    "from sklearn import datasets\n",
    "import statsmodels.api as sm\n",
    "from stargazer.stargazer import Stargazer\n",
    "from IPython.core.display import HTML"
   ]
  },
  {
   "cell_type": "code",
   "execution_count": 2,
   "id": "3aa90fd3",
   "metadata": {
    "scrolled": false
   },
   "outputs": [],
   "source": [
    "# # load the CSV final file into a DataFrame\n",
    "# file_path = 'booking_final.csv'\n",
    "# df = pd.read_csv(file_path)\n",
    "\n",
    "# df.head()\n"
   ]
  },
  {
   "cell_type": "code",
   "execution_count": 3,
   "id": "416ffad3",
   "metadata": {},
   "outputs": [
    {
     "data": {
      "text/html": [
       "<div>\n",
       "<style scoped>\n",
       "    .dataframe tbody tr th:only-of-type {\n",
       "        vertical-align: middle;\n",
       "    }\n",
       "\n",
       "    .dataframe tbody tr th {\n",
       "        vertical-align: top;\n",
       "    }\n",
       "\n",
       "    .dataframe thead th {\n",
       "        text-align: right;\n",
       "    }\n",
       "</style>\n",
       "<table border=\"1\" class=\"dataframe\">\n",
       "  <thead>\n",
       "    <tr style=\"text-align: right;\">\n",
       "      <th></th>\n",
       "      <th>name</th>\n",
       "      <th>rating</th>\n",
       "      <th>num_reviews</th>\n",
       "      <th>neighborhood</th>\n",
       "      <th>dist_from_center</th>\n",
       "      <th>price</th>\n",
       "      <th>other</th>\n",
       "      <th>is_Barna</th>\n",
       "      <th>is_Merce_time</th>\n",
       "      <th>short_description</th>\n",
       "      <th>descriptions</th>\n",
       "      <th>Free_Cancellation</th>\n",
       "      <th>Breakfast_Included</th>\n",
       "      <th>No_Prepayment</th>\n",
       "      <th>Facilities</th>\n",
       "    </tr>\n",
       "  </thead>\n",
       "  <tbody>\n",
       "    <tr>\n",
       "      <th>0</th>\n",
       "      <td>Room Mate Gerard</td>\n",
       "      <td>8.8</td>\n",
       "      <td>2783.0</td>\n",
       "      <td>Eixample</td>\n",
       "      <td>700</td>\n",
       "      <td>1730</td>\n",
       "      <td>Subway Access, Beach Nearby</td>\n",
       "      <td>1</td>\n",
       "      <td>1</td>\n",
       "      <td>Junior Suite\\nPrivate suite • 1 bedroom • 1 li...</td>\n",
       "      <td>You're eligible for a Genius discount at Room ...</td>\n",
       "      <td>0</td>\n",
       "      <td>1</td>\n",
       "      <td>0</td>\n",
       "      <td>0.216086</td>\n",
       "    </tr>\n",
       "    <tr>\n",
       "      <th>1</th>\n",
       "      <td>Sonder Los Arcos</td>\n",
       "      <td>8.4</td>\n",
       "      <td>149.0</td>\n",
       "      <td>Ciutat Vella</td>\n",
       "      <td>1000</td>\n",
       "      <td>1530</td>\n",
       "      <td>Subway Access, Beach Nearby</td>\n",
       "      <td>1</td>\n",
       "      <td>1</td>\n",
       "      <td>Queen Room with Two Queen Beds\\n2 queen beds\\n...</td>\n",
       "      <td>Ideally located in the Ciutat Vella district o...</td>\n",
       "      <td>0</td>\n",
       "      <td>0</td>\n",
       "      <td>0</td>\n",
       "      <td>-2.184302</td>\n",
       "    </tr>\n",
       "    <tr>\n",
       "      <th>2</th>\n",
       "      <td>Occidental Barcelona 1929</td>\n",
       "      <td>8.9</td>\n",
       "      <td>4066.0</td>\n",
       "      <td>Montjuïc</td>\n",
       "      <td>2300</td>\n",
       "      <td>909</td>\n",
       "      <td>Subway Access</td>\n",
       "      <td>1</td>\n",
       "      <td>1</td>\n",
       "      <td>Superior Double Room\\nBeds: 1 double or 2 twin...</td>\n",
       "      <td>You're eligible for a Genius discount at Occid...</td>\n",
       "      <td>0</td>\n",
       "      <td>0</td>\n",
       "      <td>0</td>\n",
       "      <td>-0.061278</td>\n",
       "    </tr>\n",
       "    <tr>\n",
       "      <th>3</th>\n",
       "      <td>Hotel Alimara</td>\n",
       "      <td>8.3</td>\n",
       "      <td>3892.0</td>\n",
       "      <td>Guinardó</td>\n",
       "      <td>5500</td>\n",
       "      <td>749</td>\n",
       "      <td>Subway Access</td>\n",
       "      <td>1</td>\n",
       "      <td>1</td>\n",
       "      <td>Double Room\\n1 queen bed\\nFree cancellation</td>\n",
       "      <td>You're eligible for a Genius discount at Hotel...</td>\n",
       "      <td>1</td>\n",
       "      <td>0</td>\n",
       "      <td>0</td>\n",
       "      <td>0.749370</td>\n",
       "    </tr>\n",
       "    <tr>\n",
       "      <th>4</th>\n",
       "      <td>Weflating City Center</td>\n",
       "      <td>8.8</td>\n",
       "      <td>1573.0</td>\n",
       "      <td>Eixample</td>\n",
       "      <td>500</td>\n",
       "      <td>978</td>\n",
       "      <td>Subway Access, Beach Nearby</td>\n",
       "      <td>1</td>\n",
       "      <td>1</td>\n",
       "      <td>Economy Double Room\\n2 bunk beds\\nFree cancell...</td>\n",
       "      <td>You're eligible for a Genius discount at Wefla...</td>\n",
       "      <td>1</td>\n",
       "      <td>0</td>\n",
       "      <td>0</td>\n",
       "      <td>-0.717773</td>\n",
       "    </tr>\n",
       "  </tbody>\n",
       "</table>\n",
       "</div>"
      ],
      "text/plain": [
       "                        name  rating  num_reviews  neighborhood  \\\n",
       "0           Room Mate Gerard     8.8       2783.0      Eixample   \n",
       "1           Sonder Los Arcos     8.4        149.0  Ciutat Vella   \n",
       "2  Occidental Barcelona 1929     8.9       4066.0      Montjuïc   \n",
       "3              Hotel Alimara     8.3       3892.0      Guinardó   \n",
       "4      Weflating City Center     8.8       1573.0      Eixample   \n",
       "\n",
       "   dist_from_center  price                        other  is_Barna  \\\n",
       "0               700   1730  Subway Access, Beach Nearby         1   \n",
       "1              1000   1530  Subway Access, Beach Nearby         1   \n",
       "2              2300    909                Subway Access         1   \n",
       "3              5500    749                Subway Access         1   \n",
       "4               500    978  Subway Access, Beach Nearby         1   \n",
       "\n",
       "   is_Merce_time                                  short_description  \\\n",
       "0              1  Junior Suite\\nPrivate suite • 1 bedroom • 1 li...   \n",
       "1              1  Queen Room with Two Queen Beds\\n2 queen beds\\n...   \n",
       "2              1  Superior Double Room\\nBeds: 1 double or 2 twin...   \n",
       "3              1        Double Room\\n1 queen bed\\nFree cancellation   \n",
       "4              1  Economy Double Room\\n2 bunk beds\\nFree cancell...   \n",
       "\n",
       "                                        descriptions  Free_Cancellation  \\\n",
       "0  You're eligible for a Genius discount at Room ...                  0   \n",
       "1  Ideally located in the Ciutat Vella district o...                  0   \n",
       "2  You're eligible for a Genius discount at Occid...                  0   \n",
       "3  You're eligible for a Genius discount at Hotel...                  1   \n",
       "4  You're eligible for a Genius discount at Wefla...                  1   \n",
       "\n",
       "   Breakfast_Included  No_Prepayment  Facilities  \n",
       "0                   1              0    0.216086  \n",
       "1                   0              0   -2.184302  \n",
       "2                   0              0   -0.061278  \n",
       "3                   0              0    0.749370  \n",
       "4                   0              0   -0.717773  "
      ]
     },
     "execution_count": 3,
     "metadata": {},
     "output_type": "execute_result"
    }
   ],
   "source": [
    "file_regression = '20240203_booking_final_regression.csv'\n",
    "df_regression = pd.read_csv(file_regression)\n",
    "\n",
    "df_regression.head()"
   ]
  },
  {
   "cell_type": "code",
   "execution_count": 4,
   "id": "bc3233c0",
   "metadata": {},
   "outputs": [],
   "source": [
    "#features and target y value\n",
    "X = df_regression[['is_Merce_time', 'is_Barna', 'Free_Cancellation', 'Breakfast_Included', 'No_Prepayment', 'Facilities']].copy()\n",
    "y = df_regression['price']"
   ]
  },
  {
   "cell_type": "code",
   "execution_count": 5,
   "id": "4b85ad54",
   "metadata": {},
   "outputs": [],
   "source": [
    "# regression for the treatment Period dummy\n",
    "model1 = LinearRegression().fit(X[['is_Merce_time']], y)"
   ]
  },
  {
   "cell_type": "code",
   "execution_count": 6,
   "id": "b3a0997b",
   "metadata": {},
   "outputs": [],
   "source": [
    "# regression for the treatment city dummy\n",
    "model2 = LinearRegression().fit(X[['is_Barna']], y)"
   ]
  },
  {
   "cell_type": "code",
   "execution_count": 7,
   "id": "c5d02e03",
   "metadata": {},
   "outputs": [],
   "source": [
    "# regression combined with interaction\n",
    "X['EventPeriod_Barcelona'] = X['is_Merce_time'] * X['is_Barna']\n",
    "\n",
    "model3 = LinearRegression().fit(X[['is_Merce_time', 'is_Barna', 'EventPeriod_Barcelona']], y)"
   ]
  },
  {
   "cell_type": "code",
   "execution_count": 8,
   "id": "e0cd27de",
   "metadata": {},
   "outputs": [
    {
     "name": "stdout",
     "output_type": "stream",
     "text": [
      "   is_Merce_time  is_Barna  Free_Cancellation  Breakfast_Included  \\\n",
      "0              1         1                  0                   1   \n",
      "1              1         1                  0                   0   \n",
      "2              1         1                  0                   0   \n",
      "3              1         1                  1                   0   \n",
      "4              1         1                  1                   0   \n",
      "\n",
      "   No_Prepayment  Facilities  EventPeriod_Barcelona  \n",
      "0              0    0.216086                      1  \n",
      "1              0   -2.184302                      1  \n",
      "2              0   -0.061278                      1  \n",
      "3              0    0.749370                      1  \n",
      "4              0   -0.717773                      1  \n"
     ]
    }
   ],
   "source": [
    "print(X.head())"
   ]
  },
  {
   "cell_type": "code",
   "execution_count": 9,
   "id": "c81f1924",
   "metadata": {},
   "outputs": [],
   "source": [
    "# regression combined with interaction and control variables\n",
    "model4 = LinearRegression().fit(X, y)"
   ]
  },
  {
   "cell_type": "code",
   "execution_count": 10,
   "id": "c76ed240",
   "metadata": {},
   "outputs": [
    {
     "name": "stdout",
     "output_type": "stream",
     "text": [
      "Model 1 Coefficients: [-65.38299621]\n",
      "Model 1 Intercept: 1557.678571428572\n",
      "\n",
      "Model 2 Coefficients: [637.37081341]\n",
      "Model 2 Intercept: 1067.3734567901233\n",
      "\n",
      "Model 3 Coefficients: [-34.308387   651.40627227 -30.22893809]\n",
      "Model 3 Intercept: 1084.6335403726716\n",
      "\n",
      "Model 4 Coefficients: [ -27.40743294  876.85171131 -137.77724561  562.41614083   95.22150961\n",
      "   43.16167892  -36.27322717]\n",
      "Model 4 Intercept: 846.44222176456\n"
     ]
    }
   ],
   "source": [
    "print(\"Model 1 Coefficients:\", model1.coef_)\n",
    "print(\"Model 1 Intercept:\", model1.intercept_)\n",
    "\n",
    "print(\"\\nModel 2 Coefficients:\", model2.coef_)\n",
    "print(\"Model 2 Intercept:\", model2.intercept_)\n",
    "\n",
    "print(\"\\nModel 3 Coefficients:\", model3.coef_)\n",
    "print(\"Model 3 Intercept:\", model3.intercept_)\n",
    "\n",
    "print(\"\\nModel 4 Coefficients:\", model4.coef_)\n",
    "print(\"Model 4 Intercept:\", model4.intercept_)\n"
   ]
  },
  {
   "cell_type": "code",
   "execution_count": 11,
   "id": "71e1250e",
   "metadata": {},
   "outputs": [],
   "source": [
    "# here we use stargazer's OLS functionality so that we can produce our desired standard regression table\n",
    "\n",
    "mod1 = sm.OLS(endog=y, exog=sm.add_constant(X[['is_Merce_time']])).fit()\n",
    "#model 1 OLS with just the Merce_time var\n",
    "\n",
    "mod2 = sm.OLS(endog=y, exog=sm.add_constant(X[['is_Barna']])).fit()\n",
    "#model 2 OLS with just the is_Barna var\n",
    "\n",
    "mod3 = sm.OLS(endog=y, exog=sm.add_constant(X[['is_Merce_time', 'is_Barna', 'EventPeriod_Barcelona']])).fit()\n",
    "#model 3 OLS with first two variables and the interaction term\n",
    "\n",
    "mod4 = sm.OLS(endog=y, exog=sm.add_constant(X)).fit()\n",
    "# #model 4 OLS with first two variables, interaction term and the control variables\n",
    "\n",
    "\n",
    "stargazer = Stargazer([mod1, mod2, mod3, mod4])"
   ]
  },
  {
   "cell_type": "code",
   "execution_count": 12,
   "id": "d085c875",
   "metadata": {},
   "outputs": [
    {
     "data": {
      "text/html": [
       "<table style=\"text-align:center\"><tr><td colspan=\"5\" style=\"border-bottom: 1px solid black\"></td></tr>\n",
       "<tr><td style=\"text-align:left\"></td><td colspan=\"4\"><em>Dependent variable: price</em></td></tr><tr><td style=\"text-align:left\"></td><tr><td style=\"text-align:left\"></td><td>(1)</td><td>(2)</td><td>(3)</td><td>(4)</td></tr>\n",
       "<tr><td colspan=\"5\" style=\"border-bottom: 1px solid black\"></td></tr>\n",
       "\n",
       "<tr><td style=\"text-align:left\">Breakfast_Included</td><td></td><td></td><td></td><td>562.416<sup>***</sup></td></tr>\n",
       "<tr><td style=\"text-align:left\"></td><td></td><td></td><td></td><td>(168.104)</td></tr>\n",
       "<tr><td style=\"text-align:left\">EventPeriod_Barcelona</td><td></td><td></td><td>-30.229<sup></sup></td><td>-36.273<sup></sup></td></tr>\n",
       "<tr><td style=\"text-align:left\"></td><td></td><td></td><td>(245.661)</td><td>(245.825)</td></tr>\n",
       "<tr><td style=\"text-align:left\">Facilities</td><td></td><td></td><td></td><td>43.162<sup></sup></td></tr>\n",
       "<tr><td style=\"text-align:left\"></td><td></td><td></td><td></td><td>(56.667)</td></tr>\n",
       "<tr><td style=\"text-align:left\">Free_Cancellation</td><td></td><td></td><td></td><td>-137.777<sup></sup></td></tr>\n",
       "<tr><td style=\"text-align:left\"></td><td></td><td></td><td></td><td>(155.723)</td></tr>\n",
       "<tr><td style=\"text-align:left\">No_Prepayment</td><td></td><td></td><td></td><td>95.222<sup></sup></td></tr>\n",
       "<tr><td style=\"text-align:left\"></td><td></td><td></td><td></td><td>(192.055)</td></tr>\n",
       "<tr><td style=\"text-align:left\">const</td><td>1557.679<sup>***</sup></td><td>1067.373<sup>***</sup></td><td>1084.634<sup>***</sup></td><td>846.442<sup>***</sup></td></tr>\n",
       "<tr><td style=\"text-align:left\"></td><td>(78.132)</td><td>(104.059)</td><td>(147.729)</td><td>(178.561)</td></tr>\n",
       "<tr><td style=\"text-align:left\">is_Barna</td><td></td><td>637.371<sup>***</sup></td><td>651.406<sup>***</sup></td><td>876.852<sup>***</sup></td></tr>\n",
       "<tr><td style=\"text-align:left\"></td><td></td><td>(122.721)</td><td>(173.357)</td><td>(192.315)</td></tr>\n",
       "<tr><td style=\"text-align:left\">is_Merce_time</td><td>-65.383<sup></sup></td><td></td><td>-34.308<sup></sup></td><td>-27.407<sup></sup></td></tr>\n",
       "<tr><td style=\"text-align:left\"></td><td>(111.615)</td><td></td><td>(208.279)</td><td>(208.244)</td></tr>\n",
       "\n",
       "<td colspan=\"5\" style=\"border-bottom: 1px solid black\"></td></tr>\n",
       "<tr><td style=\"text-align: left\">Observations</td><td>1153</td><td>1153</td><td>1153</td><td>1153</td></tr><tr><td style=\"text-align: left\">R<sup>2</sup></td><td>0.000</td><td>0.023</td><td>0.023</td><td>0.034</td></tr><tr><td style=\"text-align: left\">Adjusted R<sup>2</sup></td><td>-0.001</td><td>0.022</td><td>0.021</td><td>0.028</td></tr><tr><td style=\"text-align: left\">Residual Std. Error</td><td>1894.606 (df=1151)</td><td>1873.067 (df=1151)</td><td>1874.475 (df=1149)</td><td>1867.333 (df=1145)</td></tr><tr><td style=\"text-align: left\">F Statistic</td><td>0.343<sup></sup> (df=1; 1151)</td><td>26.974<sup>***</sup> (df=1; 1151)</td><td>9.069<sup>***</sup> (df=3; 1149)</td><td>5.746<sup>***</sup> (df=7; 1145)</td></tr>\n",
       "<tr><td colspan=\"5\" style=\"border-bottom: 1px solid black\"></td></tr><tr><td style=\"text-align: left\">Note:</td><td colspan=\"4\" style=\"text-align: right\"><sup>*</sup>p&lt;0.1; <sup>**</sup>p&lt;0.05; <sup>***</sup>p&lt;0.01</td></tr></table>"
      ],
      "text/plain": [
       "<stargazer.stargazer.Stargazer at 0x14ee755e0>"
      ]
     },
     "execution_count": 12,
     "metadata": {},
     "output_type": "execute_result"
    }
   ],
   "source": [
    "stargazer_tab = Stargazer([mod1, mod2, mod3, mod4])\n",
    "stargazer_tab"
   ]
  },
  {
   "cell_type": "code",
   "execution_count": 13,
   "id": "4aa14c62",
   "metadata": {},
   "outputs": [],
   "source": [
    "stargazer.custom_columns(['Model 1', 'Model 2', 'Model 3', 'Model 4'], [1, 1, 1, 1])\n",
    "\n",
    "# render the table in latex\n",
    "latex_table = stargazer.render_latex()"
   ]
  },
  {
   "cell_type": "code",
   "execution_count": 14,
   "id": "98805a10",
   "metadata": {},
   "outputs": [
    {
     "data": {
      "text/plain": [
       "'\\\\begin{table}[!htbp] \\\\centering\\n\\\\begin{tabular}{@{\\\\extracolsep{5pt}}lcccc}\\n\\\\\\\\[-1.8ex]\\\\hline\\n\\\\hline \\\\\\\\[-1.8ex]\\n& \\\\multicolumn{4}{c}{\\\\textit{Dependent variable: price}} \\\\\\n\\\\cr \\\\cline{2-5}\\n\\\\\\\\[-1.8ex] & \\\\multicolumn{1}{c}{Model 1} & \\\\multicolumn{1}{c}{Model 2} & \\\\multicolumn{1}{c}{Model 3} & \\\\multicolumn{1}{c}{Model 4}  \\\\\\\\\\n\\\\\\\\[-1.8ex] & (1) & (2) & (3) & (4) \\\\\\\\\\n\\\\hline \\\\\\\\[-1.8ex]\\n Breakfast_Included & & & & 562.416$^{***}$ \\\\\\\\\\n& & & & (168.104) \\\\\\\\\\n EventPeriod_Barcelona & & & -30.229$^{}$ & -36.273$^{}$ \\\\\\\\\\n& & & (245.661) & (245.825) \\\\\\\\\\n Facilities & & & & 43.162$^{}$ \\\\\\\\\\n& & & & (56.667) \\\\\\\\\\n Free_Cancellation & & & & -137.777$^{}$ \\\\\\\\\\n& & & & (155.723) \\\\\\\\\\n No_Prepayment & & & & 95.222$^{}$ \\\\\\\\\\n& & & & (192.055) \\\\\\\\\\n const & 1557.679$^{***}$ & 1067.373$^{***}$ & 1084.634$^{***}$ & 846.442$^{***}$ \\\\\\\\\\n& (78.132) & (104.059) & (147.729) & (178.561) \\\\\\\\\\n is_Barna & & 637.371$^{***}$ & 651.406$^{***}$ & 876.852$^{***}$ \\\\\\\\\\n& & (122.721) & (173.357) & (192.315) \\\\\\\\\\n is_Merce_time & -65.383$^{}$ & & -34.308$^{}$ & -27.407$^{}$ \\\\\\\\\\n& (111.615) & & (208.279) & (208.244) \\\\\\\\\\n\\\\hline \\\\\\\\[-1.8ex]\\n Observations & 1153 & 1153 & 1153 & 1153 \\\\\\\\\\n $R^2$ & 0.000 & 0.023 & 0.023 & 0.034 \\\\\\\\\\n Adjusted $R^2$ & -0.001 & 0.022 & 0.021 & 0.028 \\\\\\\\\\n Residual Std. Error & 1894.606 (df=1151) & 1873.067 (df=1151) & 1874.475 (df=1149) & 1867.333 (df=1145) \\\\\\\\\\n F Statistic & 0.343$^{}$ (df=1; 1151) & 26.974$^{***}$ (df=1; 1151) & 9.069$^{***}$ (df=3; 1149) & 5.746$^{***}$ (df=7; 1145) \\\\\\\\\\n\\\\hline\\n\\\\hline \\\\\\\\[-1.8ex]\\n\\\\textit{Note:} & \\\\multicolumn{4}{r}{$^{*}$p$<$0.1; $^{**}$p$<$0.05; $^{***}$p$<$0.01} \\\\\\\\\\n\\\\end{tabular}\\n\\\\end{table}'"
      ]
     },
     "execution_count": 14,
     "metadata": {},
     "output_type": "execute_result"
    }
   ],
   "source": [
    "latex_table"
   ]
  },
  {
   "cell_type": "code",
   "execution_count": null,
   "id": "b3363d69",
   "metadata": {},
   "outputs": [],
   "source": []
  }
 ],
 "metadata": {
  "kernelspec": {
   "display_name": "Python 3 (ipykernel)",
   "language": "python",
   "name": "python3"
  },
  "language_info": {
   "codemirror_mode": {
    "name": "ipython",
    "version": 3
   },
   "file_extension": ".py",
   "mimetype": "text/x-python",
   "name": "python",
   "nbconvert_exporter": "python",
   "pygments_lexer": "ipython3",
   "version": "3.9.18"
  },
  "toc": {
   "base_numbering": 1,
   "nav_menu": {},
   "number_sections": true,
   "sideBar": true,
   "skip_h1_title": false,
   "title_cell": "Table of Contents",
   "title_sidebar": "Contents",
   "toc_cell": false,
   "toc_position": {},
   "toc_section_display": true,
   "toc_window_display": false
  }
 },
 "nbformat": 4,
 "nbformat_minor": 5
}
